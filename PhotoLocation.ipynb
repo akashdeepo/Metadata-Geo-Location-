{
 "cells": [
  {
   "cell_type": "code",
   "execution_count": 30,
   "metadata": {},
   "outputs": [],
   "source": [
    "import pil.Image\n",
    "\n",
    "img = pil.Image.open(\"<Enter Jpg file name>.jpg\")"
   ]
  },
  {
   "cell_type": "code",
   "execution_count": 31,
   "metadata": {},
   "outputs": [],
   "source": [
    "import pil.ExifTags\n",
    "\n",
    "exif = {\n",
    "    pil.ExifTags.TAGS[k]:v\n",
    "    for k, v in img._getexif().items()\n",
    "    if k in pil.ExifTags.TAGS\n",
    "}"
   ]
  },
  {
   "cell_type": "code",
   "execution_count": null,
   "metadata": {},
   "outputs": [],
   "source": [
    "exif['GPSInfo']"
   ]
  },
  {
   "cell_type": "code",
   "execution_count": 33,
   "metadata": {},
   "outputs": [],
   "source": [
    "north = exif['GPSInfo'][2]\n",
    "east = exif['GPSInfo'][4]"
   ]
  },
  {
   "cell_type": "code",
   "execution_count": 34,
   "metadata": {},
   "outputs": [],
   "source": [
    "#Convert to Latitude and Longitudes\n",
    "\n",
    "lat = ((((north[0]* 60) + north[1])*60)+ north[2])/60/60\n",
    "long = ((((east[0]* 60) + east[1])*60)+ east[2])/60/60\n",
    "\n",
    "lat, long = float(lat), float(long)"
   ]
  },
  {
   "cell_type": "code",
   "execution_count": 35,
   "metadata": {},
   "outputs": [],
   "source": [
    "from gmplot import gmplot\n",
    "\n",
    "gmap = gmplot.GoogleMapPlotter(lat, long, 12)\n",
    "\n",
    "gmap.marker(lat, long, 'red')\n",
    "\n",
    "gmap.draw('location.html')"
   ]
  },
  {
   "cell_type": "code",
   "execution_count": null,
   "metadata": {},
   "outputs": [],
   "source": [
    "from geopy.geocoders import Nominatim\n",
    "\n",
    "geoLoc = Nominatim(user_agent=\"GetLoc\")\n",
    "\n",
    "locname = geoLoc.reverse(f\"{lat}, {long}\")\n",
    "\n",
    "print (locname.address)"
   ]
  },
  {
   "cell_type": "code",
   "execution_count": null,
   "metadata": {},
   "outputs": [],
   "source": [
    "import webbrowser\n",
    "\n",
    "webbrowser.open(\"location.html\", new=2)"
   ]
  }
 ],
 "metadata": {
  "kernelspec": {
   "display_name": "Python 3.10.4 64-bit",
   "language": "python",
   "name": "python3"
  },
  "language_info": {
   "codemirror_mode": {
    "name": "ipython",
    "version": 3
   },
   "file_extension": ".py",
   "mimetype": "text/x-python",
   "name": "python",
   "nbconvert_exporter": "python",
   "pygments_lexer": "ipython3",
   "version": "3.10.4"
  },
  "orig_nbformat": 4,
  "vscode": {
   "interpreter": {
    "hash": "afb734500600fd355917ca529030176ea0ca205570884b88f2f6f7d791fd3fbe"
   }
  }
 },
 "nbformat": 4,
 "nbformat_minor": 2
}
